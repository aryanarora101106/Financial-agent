{
 "cells": [
  {
   "cell_type": "markdown",
   "id": "b288a9c0",
   "metadata": {},
   "source": [
    "Import utils from helper, for extracting metrics from financial document"
   ]
  },
  {
   "cell_type": "code",
   "execution_count": null,
   "id": "c9982e41",
   "metadata": {},
   "outputs": [],
   "source": [
    "from utils_metric_extraction import *"
   ]
  },
  {
   "cell_type": "markdown",
   "id": "4948ae47",
   "metadata": {},
   "source": [
    "improt all the utility functions for analysis of document "
   ]
  },
  {
   "cell_type": "code",
   "execution_count": null,
   "id": "e2e28bc0",
   "metadata": {},
   "outputs": [],
   "source": [
    "from utils_analysis import *"
   ]
  },
  {
   "cell_type": "markdown",
   "id": "482ad990",
   "metadata": {},
   "source": [
    "the below cell reads the pdf and extracts all the data points we are required to extract in part A, segmentation is period wise"
   ]
  },
  {
   "cell_type": "code",
   "execution_count": null,
   "id": "752d01b0",
   "metadata": {},
   "outputs": [],
   "source": [
    "\n",
    "pdf_path = \"C:\\Users\\NHA\\Desktop\\aryan-intern\\aryan-intern\\Sample-Financial-Statements-1.pdf\"\n",
    "\n",
    "\n",
    "text = clean_text(extract_text_from_pdf(pdf_path))\n",
    "chunks = chunk_text(text)\n",
    "\n",
    "metrics = extract_financial_metrics(chunks)\n",
    "\n",
    "print(\"Extracted metrics:\")\n",
    "for m in metrics:\n",
    "    print(m)\n",
    "\n",
    "metrics = extract_financial_metrics(chunks)\n",
    "\n",
    "merged_metrics_list = merge_metrics_by_all_periods(metrics)\n",
    "\n",
    "metrics_dict_list = [m.model_dump() for m in merged_metrics_list]\n",
    "df = calculate_ratios(metrics_dict_list)\n",
    "\n",
    "df_values = pd.DataFrame([vars(m) for m in merged_metrics_list])\n"
   ]
  },
  {
   "cell_type": "markdown",
   "id": "f4715a46",
   "metadata": {},
   "source": [
    "the below code cells, does all the analysis described in part B of the project using the extracted data and text from the pdf"
   ]
  },
  {
   "cell_type": "code",
   "execution_count": null,
   "id": "a995a767",
   "metadata": {},
   "outputs": [],
   "source": [
    "pdf = 'C:\\Users\\NHA\\Desktop\\aryan-intern\\aryan-intern\\Sample-Financial-Statements-1.pdf'\n",
    "\n",
    "text = clean_text(extract_text_from_pdf(pdf))\n",
    "chunks = chunk_text(text)\n",
    "\n",
    "print(type(chunks))\n",
    "\n",
    "data = extract_financial_metrics(chunks)  \n",
    "\n",
    "print(data)\n",
    "\n",
    "metrices = merge_metrics_by_all_periods(data)\n",
    "    \n",
    "\n",
    "plot_trend(metrices, \"revenue_total\")\n",
    "plot_trend(metrices, \"net_profit\")\n",
    "plot_trend(metrices, \"cogs\")\n",
    "\n",
    "print(benchmark_ratios_all(metrices))\n",
    "\n",
    "\n",
    "# Usage\n",
    "print(evaluate_cash_flow_all(metrices))\n",
    "print(calculate_runway_all(metrices))\n",
    "\n",
    "\n",
    "print(profitability_analysis_all(metrices))\n",
    "print(efficiency_ratio_all(metrices))\n",
    "\n",
    "\n",
    "print(evaluate_debt_risk_all(metrices))\n",
    "\n",
    "print(investment_readiness_all(metrices))\n",
    "\n",
    "print(interpret_with_gemini(metrices))"
   ]
  }
 ],
 "metadata": {
  "language_info": {
   "name": "python"
  }
 },
 "nbformat": 4,
 "nbformat_minor": 5
}
