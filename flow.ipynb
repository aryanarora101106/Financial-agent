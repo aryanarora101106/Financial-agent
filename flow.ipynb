{
 "cells": [
  {
   "cell_type": "markdown",
   "id": "b288a9c0",
   "metadata": {},
   "source": [
    "Import utils from helper, for extracting metrics from financial document"
   ]
  },
  {
   "cell_type": "code",
   "execution_count": 3,
   "id": "c9982e41",
   "metadata": {},
   "outputs": [],
   "source": [
    "from utils_metric_extraction import *"
   ]
  },
  {
   "cell_type": "markdown",
   "id": "4948ae47",
   "metadata": {},
   "source": [
    "improt all the utility functions for analysis of document "
   ]
  },
  {
   "cell_type": "code",
   "execution_count": 5,
   "id": "e2e28bc0",
   "metadata": {},
   "outputs": [],
   "source": [
    "from utils_analysis import *"
   ]
  },
  {
   "cell_type": "markdown",
   "id": "482ad990",
   "metadata": {},
   "source": [
    "the below cell reads the pdf and extracts all the data points we are required to extract in part A, segmentation is period wise"
   ]
  },
  {
   "cell_type": "code",
   "execution_count": null,
   "id": "752d01b0",
   "metadata": {},
   "outputs": [
    {
     "name": "stdout",
     "output_type": "stream",
     "text": [
      "c:\\Users\\NHA\\Desktop\\Financial-agent\\Sample\n",
      "Extracted metrics:\n",
      "period=None revenue_total='$9,625' revenue_growth=None revenue_by_segment='Service revenue $2,750, Sales revenue $6,875' gross_profit='$2,750' gross_margin=None ebit='$1,390' ebit_margin=None net_profit='$945' net_margin=None ebitda=None adjusted_ebitda=None cogs='4,125' opex='1,360' interest='40' depreciation_amortization='100' cash_flow_operating=None cash_flow_investing=None cash_flow_financing=None free_cash_flow=None cash_burn_rate=None runway=None total_assets=None total_liabilities=None cash_equivalents=None debt=None working_capital=None net_worth=None valuation=None capital_raised=None cap_table=None\n",
      "period=None revenue_total=None revenue_growth=None revenue_by_segment=None gross_profit=None gross_margin=None ebit='1,390' ebit_margin=None net_profit='$945' net_margin=None ebitda=None adjusted_ebitda=None cogs=None opex='1,360' interest='40' depreciation_amortization='1,300' cash_flow_operating=None cash_flow_investing=None cash_flow_financing=None free_cash_flow=None cash_burn_rate=None runway=None total_assets='$13,060' total_liabilities='8,895' cash_equivalents='$ 1,550' debt='8,000' working_capital=None net_worth='4,165' valuation=None capital_raised=None cap_table=None\n",
      "\n",
      "[ORIGINAL] 13,060\n",
      "[CLEANED] 13060\n",
      "[MATCHED] Number: 13060.0, Suffix: \n",
      "\n",
      "[ORIGINAL] 8,895\n",
      "[CLEANED] 8895\n",
      "[MATCHED] Number: 8895.0, Suffix: \n",
      "\n",
      "[ORIGINAL] 1,550\n",
      "[CLEANED] 1550\n",
      "[MATCHED] Number: 1550.0, Suffix: \n",
      "\n",
      "[ORIGINAL] 8,000\n",
      "[CLEANED] 8000\n",
      "[MATCHED] Number: 8000.0, Suffix: \n",
      "\n",
      "[ORIGINAL] $945\n",
      "[CLEANED] 945\n",
      "[MATCHED] Number: 945.0, Suffix: \n",
      "\n",
      "[ORIGINAL] $1,390\n",
      "[CLEANED] 1390\n",
      "[MATCHED] Number: 1390.0, Suffix: \n",
      "\n",
      "[ORIGINAL] 4,125\n",
      "[CLEANED] 4125\n",
      "[MATCHED] Number: 4125.0, Suffix: \n",
      "\n",
      "[ORIGINAL] $9,625\n",
      "[CLEANED] 9625\n",
      "[MATCHED] Number: 9625.0, Suffix: \n",
      "\n",
      "[ORIGINAL] 1,360\n",
      "[CLEANED] 1360\n",
      "[MATCHED] Number: 1360.0, Suffix: \n",
      "\n",
      "[ORIGINAL] 4,165\n",
      "[CLEANED] 4165\n",
      "[MATCHED] Number: 4165.0, Suffix: \n",
      "\n",
      "[ORIGINAL] 100\n",
      "[CLEANED] 100\n",
      "[MATCHED] Number: 100.0, Suffix: \n",
      "[SKIPPED] Not a string: None\n"
     ]
    }
   ],
   "source": [
    "\n",
    "import os\n",
    "current_dir = os.getcwd()\n",
    "pth=os.path.join(current_dir,\"Sample\")\n",
    "pdf_path=pth\n",
    "\n",
    "\n",
    "text = clean_text(extract_text_from_pdf(pdf_path))\n",
    "chunks = chunk_text(text)\n",
    "\n",
    "metrics = extract_financial_metrics(chunks)\n",
    "\n",
    "print(\"Extracted metrics:\")\n",
    "for m in metrics:\n",
    "    print(m)\n",
    "\n",
    "metrics = extract_financial_metrics(chunks)\n",
    "\n",
    "merged_metrics_list = merge_metrics_by_all_periods(metrics)\n",
    "\n",
    "metrics_dict_list = [m.model_dump() for m in merged_metrics_list]\n",
    "df = calculate_ratios(metrics_dict_list)\n",
    "\n",
    "df_values = pd.DataFrame([vars(m) for m in merged_metrics_list])\n"
   ]
  },
  {
   "cell_type": "code",
   "execution_count": 8,
   "id": "7cab6aa3",
   "metadata": {},
   "outputs": [
    {
     "data": {
      "text/html": [
       "<div>\n",
       "<style scoped>\n",
       "    .dataframe tbody tr th:only-of-type {\n",
       "        vertical-align: middle;\n",
       "    }\n",
       "\n",
       "    .dataframe tbody tr th {\n",
       "        vertical-align: top;\n",
       "    }\n",
       "\n",
       "    .dataframe thead th {\n",
       "        text-align: right;\n",
       "    }\n",
       "</style>\n",
       "<table border=\"1\" class=\"dataframe\">\n",
       "  <thead>\n",
       "    <tr style=\"text-align: right;\">\n",
       "      <th></th>\n",
       "      <th>period</th>\n",
       "      <th>revenue_total</th>\n",
       "      <th>revenue_growth</th>\n",
       "      <th>revenue_by_segment</th>\n",
       "      <th>gross_profit</th>\n",
       "      <th>gross_margin</th>\n",
       "      <th>ebit</th>\n",
       "      <th>ebit_margin</th>\n",
       "      <th>net_profit</th>\n",
       "      <th>net_margin</th>\n",
       "      <th>...</th>\n",
       "      <th>runway</th>\n",
       "      <th>total_assets</th>\n",
       "      <th>total_liabilities</th>\n",
       "      <th>cash_equivalents</th>\n",
       "      <th>debt</th>\n",
       "      <th>working_capital</th>\n",
       "      <th>net_worth</th>\n",
       "      <th>valuation</th>\n",
       "      <th>capital_raised</th>\n",
       "      <th>cap_table</th>\n",
       "    </tr>\n",
       "  </thead>\n",
       "  <tbody>\n",
       "    <tr>\n",
       "      <th>0</th>\n",
       "      <td>None</td>\n",
       "      <td>$9,625</td>\n",
       "      <td>None</td>\n",
       "      <td>Service revenue $2,750, Sales revenue $6,875</td>\n",
       "      <td>$2,750</td>\n",
       "      <td>None</td>\n",
       "      <td>$1,390</td>\n",
       "      <td>None</td>\n",
       "      <td>$945</td>\n",
       "      <td>None</td>\n",
       "      <td>...</td>\n",
       "      <td>None</td>\n",
       "      <td>13,060</td>\n",
       "      <td>8,895</td>\n",
       "      <td>1,550</td>\n",
       "      <td>8,000</td>\n",
       "      <td>1,465</td>\n",
       "      <td>4,165</td>\n",
       "      <td>None</td>\n",
       "      <td>None</td>\n",
       "      <td>None</td>\n",
       "    </tr>\n",
       "  </tbody>\n",
       "</table>\n",
       "<p>1 rows × 31 columns</p>\n",
       "</div>"
      ],
      "text/plain": [
       "  period revenue_total revenue_growth  \\\n",
       "0   None        $9,625           None   \n",
       "\n",
       "                             revenue_by_segment gross_profit gross_margin  \\\n",
       "0  Service revenue $2,750, Sales revenue $6,875       $2,750         None   \n",
       "\n",
       "     ebit ebit_margin net_profit net_margin  ... runway total_assets  \\\n",
       "0  $1,390        None       $945       None  ...   None       13,060   \n",
       "\n",
       "  total_liabilities cash_equivalents   debt working_capital net_worth  \\\n",
       "0             8,895            1,550  8,000           1,465     4,165   \n",
       "\n",
       "  valuation capital_raised cap_table  \n",
       "0      None           None      None  \n",
       "\n",
       "[1 rows x 31 columns]"
      ]
     },
     "execution_count": 8,
     "metadata": {},
     "output_type": "execute_result"
    }
   ],
   "source": [
    "df_values"
   ]
  },
  {
   "cell_type": "code",
   "execution_count": 9,
   "id": "4d03ff22",
   "metadata": {},
   "outputs": [
    {
     "data": {
      "text/html": [
       "<div>\n",
       "<style scoped>\n",
       "    .dataframe tbody tr th:only-of-type {\n",
       "        vertical-align: middle;\n",
       "    }\n",
       "\n",
       "    .dataframe tbody tr th {\n",
       "        vertical-align: top;\n",
       "    }\n",
       "\n",
       "    .dataframe thead th {\n",
       "        text-align: right;\n",
       "    }\n",
       "</style>\n",
       "<table border=\"1\" class=\"dataframe\">\n",
       "  <thead>\n",
       "    <tr style=\"text-align: right;\">\n",
       "      <th></th>\n",
       "      <th>Period</th>\n",
       "      <th>Current Ratio</th>\n",
       "      <th>Debt to Equity</th>\n",
       "      <th>Gross Margin</th>\n",
       "      <th>Operating Margin</th>\n",
       "      <th>Net Margin</th>\n",
       "      <th>Return on Equity (ROE)</th>\n",
       "      <th>Return on Assets (ROA)</th>\n",
       "      <th>Burn Multiple</th>\n",
       "    </tr>\n",
       "  </thead>\n",
       "  <tbody>\n",
       "    <tr>\n",
       "      <th>0</th>\n",
       "      <td>None</td>\n",
       "      <td>1.47</td>\n",
       "      <td>1.92</td>\n",
       "      <td>0.57</td>\n",
       "      <td>0.14</td>\n",
       "      <td>0.1</td>\n",
       "      <td>0.23</td>\n",
       "      <td>0.07</td>\n",
       "      <td>NaN</td>\n",
       "    </tr>\n",
       "  </tbody>\n",
       "</table>\n",
       "</div>"
      ],
      "text/plain": [
       "  Period  Current Ratio  Debt to Equity  Gross Margin  Operating Margin  \\\n",
       "0   None           1.47            1.92          0.57              0.14   \n",
       "\n",
       "   Net Margin  Return on Equity (ROE)  Return on Assets (ROA)  Burn Multiple  \n",
       "0         0.1                    0.23                    0.07            NaN  "
      ]
     },
     "execution_count": 9,
     "metadata": {},
     "output_type": "execute_result"
    }
   ],
   "source": [
    "df"
   ]
  },
  {
   "cell_type": "markdown",
   "id": "f4715a46",
   "metadata": {},
   "source": [
    "the below code cells, does all the analysis described in part B of the project using the extracted data and text from the pdf"
   ]
  },
  {
   "cell_type": "code",
   "execution_count": null,
   "id": "a995a767",
   "metadata": {},
   "outputs": [
    {
     "name": "stdout",
     "output_type": "stream",
     "text": [
      "<class 'list'>\n",
      "[FinancialMetrics(period=None, revenue_total='$6,875', revenue_growth=None, revenue_by_segment=None, gross_profit='$2,750', gross_margin=None, ebit='$1,390', ebit_margin=None, net_profit='$945', net_margin=None, ebitda=None, adjusted_ebitda=None, cogs='4,125', opex='1,360', interest='40', depreciation_amortization='100', cash_flow_operating=None, cash_flow_investing=None, cash_flow_financing=None, free_cash_flow=None, cash_burn_rate=None, runway=None, total_assets=None, total_liabilities=None, cash_equivalents=None, debt=None, working_capital=None, net_worth=None, valuation=None, capital_raised=None, cap_table=None), FinancialMetrics(period=None, revenue_total=None, revenue_growth=None, revenue_by_segment=None, gross_profit=None, gross_margin=None, ebit='1,390', ebit_margin=None, net_profit='$945', net_margin=None, ebitda=None, adjusted_ebitda=None, cogs=None, opex='1,360', interest='40', depreciation_amortization='1,300', cash_flow_operating=None, cash_flow_investing=None, cash_flow_financing=None, free_cash_flow=None, cash_burn_rate=None, runway=None, total_assets='$13,060', total_liabilities='8,895', cash_equivalents='$ 1,550', debt='8,000', working_capital='1,465', net_worth='4,165', valuation=None, capital_raised=None, cap_table=None)]\n"
     ]
    },
    {
     "data": {
      "image/png": "[encoded data removed]",
      "text/plain": [
       "<Figure size 640x480 with 1 Axes>"
      ]
     },
     "metadata": {},
     "output_type": "display_data"
    },
    {
     "data": {
      "image/png": "[encoded data removed]",
      "text/plain": [
       "<Figure size 640x480 with 1 Axes>"
      ]
     },
     "metadata": {},
     "output_type": "display_data"
    },
    {
     "data": {
      "image/png": "[encoded data removed]",
      "text/plain": [
       "<Figure size 640x480 with 1 Axes>"
      ]
     },
     "metadata": {},
     "output_type": "display_data"
    },
    {
     "name": "stdout",
     "output_type": "stream",
     "text": [
      "0.20218181818181818\n",
      "[{'period': None, 'flags': []}]\n",
      "[(None, 'Insufficient data')]\n",
      "[(None, 'Insufficient data')]\n",
      "[(None, 'Net margin: 13.75%')]\n",
      "[(None, 'Sales-to-Marketing ratio: 5.06')]\n",
      "[(None, 'Debt manageable')]\n",
      "945.0\n",
      "inf\n",
      "[(None, 'Green: Profitable, cash positive')]\n",
      "Okay, I will analyze the provided financial data for the \"Unknown Period\" and perform the requested tasks.\n",
      "\n",
      "**1. Trend Analysis:**\n",
      "\n",
      "*   Since this is a single period's data, trend analysis (year-over-year or quarter-over-quarter) is not possible. We can only analyze the snapshot of this particular period.\n",
      "\n",
      "**2. Profitability & Efficiency:**\n",
      "\n",
      "*   **Gross Profit:** $2,750\n",
      "*   **Operating Profit (EBIT):** $1,390\n",
      "*   **Net Profit:** $945\n",
      "*   **COGS:** $4,125\n",
      "*   **OPEX:** $1,360\n",
      "\n",
      "*   **Margin Analysis:** Gross Margin = $2,750/$6,875 = 40%. Net Margin = $945/$6,875 = 13.75%.\n",
      "*   **Cost Efficiency:** COGS represents a significant portion of revenue (4,125/6,875 = 60%). OPEX is relatively lower (1,360/6,875 = 20%).  The company seems to have decent cost management of operating expenses but COGS is a significant factor.\n",
      "*   **Flag:** The company is profitable, but the high COGS impacts overall profitability.\n",
      "\n",
      "**3. Cash Flow Health:**\n",
      "\n",
      "*   **Cash Flow from Operations:** Data is missing. We cannot determine if the company is cash-flow positive from operations.\n",
      "*   **Burn Rate & Runway:** Data is missing.  We cannot estimate burn rate or runway.\n",
      "*   **Risk:**  Without cash flow information, we cannot reliably assess cash flow risk.  However, having $1,550 in cash equivalents provides some buffer.\n",
      "\n",
      "**4. Debt Risk:**\n",
      "\n",
      "*   **Debt:** $8,000\n",
      "*   **EBIT:** $1,390\n",
      "*   **Interest:** $40\n",
      "\n",
      "*   **Debt Analysis:**\n",
      "    *   Debt/EBIT = 8,000/1,390 = 5.75. This is a moderate debt level relative to earnings.\n",
      "    *   Interest Coverage Ratio = EBIT/Interest = 1,390/40 = 34.75.  The company can comfortably cover its interest obligations.\n",
      "*   **Flag:** Debt seems manageable given the interest coverage ratio and EBIT.  However, the Debt/EBIT ratio suggests the company has a significant amount of debt compared to earnings.\n",
      "\n",
      "**5. Investment Readiness Score:**\n",
      "\n",
      "*   **Profitability:** Profitable based on net income.\n",
      "*   **Cash Flow:**  Unknown (data missing).\n",
      "*   **Runway:** Unknown (data missing).\n",
      "*   **Liabilities:**  High debt relative to cash and net worth (Debt/Cash = 5.16, Debt/Net Worth = 1.92).\n",
      "\n",
      "*   **Overall Score:** **Yellow**\n",
      "\n",
      "    *   The company is profitable, which is a positive sign. However, the significant debt and lack of cash flow information raise concerns. Without cash flow data, it's impossible to fully assess the company's financial health and runway. The high debt level, despite manageable interest payments, warrants caution. A deeper dive into cash flow and future growth prospects is needed.\n"
     ]
    }
   ],
   "source": [
    "pdf=pth\n",
    "\n",
    "text = clean_text(extract_text_from_pdf(pdf))\n",
    "chunks = chunk_text(text)\n",
    "\n",
    "print(type(chunks))\n",
    "\n",
    "data = extract_financial_metrics(chunks)  \n",
    "\n",
    "print(data)\n",
    "\n",
    "metrices = merge_metrics_by_all_periods(data)\n",
    "    \n",
    "\n",
    "plot_trend(metrices, \"revenue_total\")\n",
    "plot_trend(metrices, \"net_profit\")\n",
    "plot_trend(metrices, \"cogs\")\n",
    "\n",
    "print(benchmark_ratios_all(metrices))\n",
    "\n",
    "\n",
    "# Usage\n",
    "print(evaluate_cash_flow_all(metrices))\n",
    "print(calculate_runway_all(metrices))\n",
    "\n",
    "\n",
    "print(profitability_analysis_all(metrices))\n",
    "print(efficiency_ratio_all(metrices))\n",
    "\n",
    "\n",
    "print(evaluate_debt_risk_all(metrices))\n",
    "\n",
    "print(investment_readiness_all(metrices))\n",
    "\n",
    "print(interpret_with_gemini(metrices))"
   ]
  }
 ],
 "metadata": {
  "kernelspec": {
   "display_name": "venv",
   "language": "python",
   "name": "python3"
  },
  "language_info": {
   "codemirror_mode": {
    "name": "ipython",
    "version": 3
   },
   "file_extension": ".py",
   "mimetype": "text/x-python",
   "name": "python",
   "nbconvert_exporter": "python",
   "pygments_lexer": "ipython3",
   "version": "3.13.3"
  }
 },
 "nbformat": 4,
 "nbformat_minor": 5
}
